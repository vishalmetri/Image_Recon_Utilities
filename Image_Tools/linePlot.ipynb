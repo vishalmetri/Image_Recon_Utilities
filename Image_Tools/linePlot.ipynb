{
 "cells": [
  {
   "cell_type": "code",
   "execution_count": 12,
   "metadata": {},
   "outputs": [
    {
     "name": "stdout",
     "output_type": "stream",
     "text": [
      "     x1    y1    x2    y2\n",
      "0  1131   358  1184   425\n",
      "1  1092   632  1034   698\n",
      "2  1421  1351  1505  1417\n",
      "3  1237  1150  1295  1206\n",
      "[[1131  358 1184  425]\n",
      " [1092  632 1034  698]\n",
      " [1421 1351 1505 1417]\n",
      " [1237 1150 1295 1206]]\n",
      "4\n"
     ]
    }
   ],
   "source": [
    "from imageTools import *\n",
    "import pandas as pd\n",
    "#import matplotlib.pyplot as plt\n",
    "\n",
    "## Image params ##\n",
    "im = Image(2032,2032)\n",
    "#im = Image(2030,34)\n",
    "dirPath = r'C:\\Users\\Vishal.Metri\\Documents\\MobaXterm\\home\\Work\\Highres\\bkt002\\bkt002_fdk_goodreso'\n",
    "#dirPath = r'C:\\Users\\Vishal.Metri\\Documents\\MobaXterm\\home\\Work\\Highres\\cwp1\\cwp1_fdk_goodreso'\n",
    "#dirPath = r'C:\\Users\\Vishal.Metri\\Documents\\MobaXterm\\home\\Work\\Highres\\rha02_new\\ring_proj'\n",
    "fmt = 'single'\n",
    "################\n",
    "\n",
    "## Load image ##\n",
    "#imPath = dirPath + '\\\\' + 'exp_proj_filtered0.raw'\n",
    "imPath = dirPath + '\\\\' + 'cudaCorrReso_bkt002_z1027_2032x2032x1.raw'\n",
    "#imPath = dirPath + '\\\\' + 'sliceMLEM350.raw'\n",
    "im.readFromFile2D(imPath,fmt)\n",
    "################\n",
    "\n",
    "## Read line limits for profiles ##\n",
    "\n",
    "lpFilePath = dirPath + '\\\\' + 'lineProfs_bkt002.xlsx'\n",
    "lineLims = pd.read_excel(lpFilePath)\n",
    "\n",
    "#lineLims = np.array([[17,0,17,10]])\n",
    "\n",
    "print(lineLims)\n",
    "lineLims = lineLims.to_numpy()\n",
    "print(lineLims)\n",
    "\n",
    "## Process lineLims ##\n",
    "s = np.shape(lineLims)\n",
    "numRegions = s[0]\n",
    "print(numRegions)\n",
    "\n",
    "## Initialize output list ##\n",
    "lp = []\n",
    "###################################\n",
    "\n",
    "%matplotlib qt\n",
    "fig1 = plt.figure(figsize=(10, 10), dpi=100)\n",
    "drawOptions = {'color':'red','linewidth' : 1}\n",
    "\n",
    "#fig2, ax = plt.subplots(nrows=2, ncols=2, figsize=(8, 8), dpi=100)\n",
    "#print(ax)\n",
    "\n",
    "for i in range(numRegions):\n",
    "    x1 = lineLims[i,0]\n",
    "    y1 = lineLims[i,1]\n",
    "    x2 = lineLims[i,2]\n",
    "    y2 = lineLims[i,3]\n",
    "    \n",
    "    p1 = Point(x1,y1)\n",
    "    p2 = Point(x2,y2)\n",
    "\n",
    "    lp1 = LinePlot(im,p1,p2)\n",
    "    #lp1.getLineProfile()\n",
    "    #plt.subplot(2,2,i + 1)\n",
    "    #plt.plot(lp1.lpdata)\n",
    "    lp1.drawLine(drawOptions)\n",
    "    \n",
    "    #lp1.getLineProfile()\n",
    "    #lp.append(lp1.lpdata)\n",
    "\n",
    "#fig1 = plt.figure(figsize=(10, 10), dpi=100)\n",
    "#drawOptions = {'color':'red','linewidth' : 1}\n",
    "plt.imshow(im.data, cmap='gray')\n",
    "plt.show()\n",
    "\n",
    "\n",
    "#df0 = pd.DataFrame(lp)\n",
    "#df0 = df0.T\n",
    "#print(df0.iloc[:,0])\n",
    "#df0.to_excel(\"output_rha_fdk.xlsx\")\n",
    "\n",
    "#with pd.ExcelWriter('output2.xlsx',engine='openpyxl',mode='a') as writer:\n",
    "#    df0.to_excel(writer,sheet_name='sn2')\n",
    "#    df0.to_excel(writer,sheet_name='sn3')\n",
    "\n",
    "\n",
    "#p1 = [x1,x2]\n",
    "#p2 = [y1,y2]\n",
    "#plt.plot(p1,p2,color=\"red\", linewidth=2)\n",
    "\n",
    "\n",
    "#######\n",
    "\n",
    "#fig2 = plt.figure(figsize=(8, 8), dpi=100)\n",
    "#plt.plot(finData[:,3])\n",
    "#plt.plot(lp1.lpdata)\n",
    "\n",
    "#fig1.savefig('save1.tif',dpi=300)"
   ]
  },
  {
   "cell_type": "code",
   "execution_count": 7,
   "metadata": {},
   "outputs": [],
   "source": [
    "# import matplotlib.pyplot as plt\n",
    "from imageTools import *\n",
    "from skimage import measure\n",
    "import pandas as pd\n",
    "\n"
   ]
  },
  {
   "cell_type": "code",
   "execution_count": 21,
   "metadata": {},
   "outputs": [
    {
     "name": "stdout",
     "output_type": "stream",
     "text": [
      "[[0. 0. 0. 0.]\n",
      " [0. 0. 0. 0.]\n",
      " [0. 0. 0. 0.]]\n"
     ]
    }
   ],
   "source": [
    "a = np.zeros((3,4))\n",
    "print(a)"
   ]
  },
  {
   "cell_type": "code",
   "execution_count": 99,
   "metadata": {},
   "outputs": [
    {
     "name": "stdout",
     "output_type": "stream",
     "text": [
      "[[1 4]\n",
      " [2 5]\n",
      " [3 6]]\n",
      "(1, 3)\n",
      "[[1 2 3]\n",
      " [4 5 6]\n",
      " [7 8 9]]\n"
     ]
    }
   ],
   "source": [
    "z = np.array([[1,2,3],[4,5,6]])\n",
    "print(z.T)\n",
    "c = np.array([[7,8,9]])\n",
    "#print(np.shape(z.T))\n",
    "print(np.shape(c))\n",
    "z2 = np.concatenate((z,c), axis = 0)\n",
    "print(z2)"
   ]
  },
  {
   "cell_type": "code",
   "execution_count": 14,
   "metadata": {},
   "outputs": [
    {
     "name": "stdout",
     "output_type": "stream",
     "text": [
      "2\n"
     ]
    }
   ],
   "source": [
    "l1 = {'color':'red','linewidth' : 2}\n",
    "print(l1['linewidth'])"
   ]
  },
  {
   "cell_type": "code",
   "execution_count": 4,
   "metadata": {},
   "outputs": [
    {
     "name": "stdout",
     "output_type": "stream",
     "text": [
      "[0, 50, 100, 150, 200, 250, 300, 350, 400, 450, 500, 550, 600, 650, 700, 750, 800, 850, 900, 950, 1000]\n"
     ]
    }
   ],
   "source": [
    "a = list(range(0,1001,50))\n",
    "print(a)"
   ]
  },
  {
   "cell_type": "code",
   "execution_count": 24,
   "metadata": {},
   "outputs": [
    {
     "data": {
      "text/plain": [
       "920.8018244986268"
      ]
     },
     "execution_count": 24,
     "metadata": {},
     "output_type": "execute_result"
    }
   ],
   "source": [
    "np.sqrt((576 - 432.0)**2 + (950 - 52)**2 + (144)**2)"
   ]
  },
  {
   "cell_type": "code",
   "execution_count": 11,
   "metadata": {},
   "outputs": [
    {
     "name": "stdout",
     "output_type": "stream",
     "text": [
      "   zing   bing  yoda\n",
      "0   1.0  zelda     4\n",
      "{'zing': 1.0, 'bing': 'zelda', 'yoda': array([4])}\n"
     ]
    }
   ],
   "source": [
    "x = dict()\n",
    "x['zing'] = 1.0\n",
    "x['bing'] = 'zelda'\n",
    "x['yoda'] = np.array([4])\n",
    "\n",
    "z = pd.DataFrame(data=x)\n",
    "print(z)\n",
    "print(x)"
   ]
  },
  {
   "cell_type": "code",
   "execution_count": 5,
   "metadata": {},
   "outputs": [
    {
     "name": "stdout",
     "output_type": "stream",
     "text": [
      "[[1 2 3]\n",
      " [4 5 6]]\n"
     ]
    }
   ],
   "source": [
    "z = np.array([[1,2,3],[4,5,6]])\n",
    "print(z)"
   ]
  },
  {
   "cell_type": "code",
   "execution_count": null,
   "metadata": {},
   "outputs": [],
   "source": []
  }
 ],
 "metadata": {
  "kernelspec": {
   "display_name": "Python 3",
   "language": "python",
   "name": "python3"
  },
  "language_info": {
   "codemirror_mode": {
    "name": "ipython",
    "version": 3
   },
   "file_extension": ".py",
   "mimetype": "text/x-python",
   "name": "python",
   "nbconvert_exporter": "python",
   "pygments_lexer": "ipython3",
   "version": "3.8.5"
  }
 },
 "nbformat": 4,
 "nbformat_minor": 4
}
