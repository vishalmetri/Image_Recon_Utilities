{
 "cells": [
  {
   "cell_type": "code",
   "execution_count": 1,
   "metadata": {},
   "outputs": [
    {
     "name": "stdout",
     "output_type": "stream",
     "text": [
      "[[<AxesSubplot:> <AxesSubplot:>]\n",
      " [<AxesSubplot:> <AxesSubplot:>]]\n",
      "8\n",
      "8\n",
      "8\n",
      "8\n"
     ]
    },
    {
     "data": {
      "text/plain": [
       "'\\nplt.subplot(2,2,1)\\nplt.plot(range(1,5))\\nplt.subplot(2,2,2)\\nplt.plot(range(1,5))\\nplt.subplot(2,2,3)\\nplt.plot(range(1,10))'"
      ]
     },
     "execution_count": 1,
     "metadata": {},
     "output_type": "execute_result"
    }
   ],
   "source": [
    "import matplotlib.pyplot as plt\n",
    "import pandas as pd\n",
    "\n",
    "## Set directory and image params ##\n",
    "#dirPath = r'C:\\Users\\Vishal.Metri\\Documents\\MobaXterm\\home\\Work\\Highres\\rha02_new\\mlemIterTest\\rha02_mlemSlices'\n",
    "dirPath = r'C:\\Users\\Vishal.Metri\\Documents\\MobaXterm\\home\\Work\\Highres\\bkt002\\mlemIterTest\\bkt002_mlemSlices'\n",
    "\n",
    "lineProfFile = 'lineProfs_bkt002.xlsx'\n",
    "\n",
    "## Datafile has some number of sheets. Each sheet is for a particular line profile\n",
    "## In a given sheet, each column is the line profile for a given iteration\n",
    "## multiLineProfile has the code to generate this data file\n",
    "\n",
    "dataFile = 'bkt002_MLEM_LineProfiles.xlsx'\n",
    "dataPath = dirPath + '\\\\' + dataFile\n",
    "\n",
    "#### \n",
    "\n",
    "numProfiles = 4\n",
    "ind = 0\n",
    "\n",
    "%matplotlib qt\n",
    "#fig1 = plt.figure(figsize=(10, 10), dpi=100)\n",
    "fig1, ax = plt.subplots(nrows=2, ncols=2, figsize=(10, 10), dpi=100)\n",
    "\n",
    "print(ax)\n",
    "\n",
    "#for row in ax:\n",
    "#    print(\"row is \", row)\n",
    "#    for col in row:\n",
    "#        print(\"col is \", col)\n",
    "\n",
    "for i in range(numProfiles):\n",
    "    sheetName = 'LineProfile ' + str(i)\n",
    "    df = pd.read_excel(dataPath,sheet_name = sheetName)\n",
    "    s = df.shape\n",
    "    numIters = s[1]\n",
    "    print(numIters)\n",
    "    plt.subplot(2,2,i + 1)\n",
    "    for j in list(range(1,numIters,1)):\n",
    "        plt.plot(df.iloc[:,j],label = str(j*50))\n",
    "        plt.title(sheetName)\n",
    "        if (i == 0):\n",
    "            plt.legend(loc = 3, fontsize = 'x-small')\n",
    "        #plt.legend(str(j))\n",
    "\n",
    "'''\n",
    "plt.subplot(2,2,1)\n",
    "plt.plot(range(1,5))\n",
    "plt.subplot(2,2,2)\n",
    "plt.plot(range(1,5))\n",
    "plt.subplot(2,2,3)\n",
    "plt.plot(range(1,10))'''\n",
    "\n",
    "    \n",
    "    \n",
    "    "
   ]
  },
  {
   "cell_type": "code",
   "execution_count": null,
   "metadata": {},
   "outputs": [],
   "source": []
  },
  {
   "cell_type": "code",
   "execution_count": null,
   "metadata": {},
   "outputs": [],
   "source": []
  }
 ],
 "metadata": {
  "kernelspec": {
   "display_name": "Python 3",
   "language": "python",
   "name": "python3"
  },
  "language_info": {
   "codemirror_mode": {
    "name": "ipython",
    "version": 3
   },
   "file_extension": ".py",
   "mimetype": "text/x-python",
   "name": "python",
   "nbconvert_exporter": "python",
   "pygments_lexer": "ipython3",
   "version": "3.8.5"
  }
 },
 "nbformat": 4,
 "nbformat_minor": 4
}
